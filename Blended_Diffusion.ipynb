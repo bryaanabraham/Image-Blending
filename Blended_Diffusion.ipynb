{
  "cells": [
    {
      "cell_type": "code",
      "execution_count": null,
      "metadata": {
        "colab": {
          "base_uri": "https://localhost:8080/"
        },
        "id": "NG2HdTL1-FlX",
        "outputId": "70438ea3-8ce8-480c-ab25-1349c7aa3a00"
      },
      "outputs": [
        {
          "output_type": "stream",
          "name": "stdout",
          "text": [
            "Cloning into 'blended-diffusion'...\n",
            "remote: Enumerating objects: 114, done.\u001b[K\n",
            "remote: Counting objects: 100% (28/28), done.\u001b[K\n",
            "remote: Compressing objects: 100% (21/21), done.\u001b[K\n",
            "remote: Total 114 (delta 14), reused 10 (delta 7), pack-reused 86 (from 1)\u001b[K\n",
            "Receiving objects: 100% (114/114), 43.43 MiB | 15.79 MiB/s, done.\n",
            "Resolving deltas: 100% (22/22), done.\n"
          ]
        }
      ],
      "source": [
        "!git clone https://github.com/omriav/blended-diffusion.git"
      ]
    },
    {
      "cell_type": "code",
      "execution_count": null,
      "metadata": {
        "colab": {
          "base_uri": "https://localhost:8080/",
          "height": 36
        },
        "id": "gPF6ZlVIUHpL",
        "outputId": "a73487d1-3ee3-41f5-f0a6-ed590215287a"
      },
      "outputs": [
        {
          "output_type": "execute_result",
          "data": {
            "text/plain": [
              "'/content/blended-diffusion'"
            ],
            "application/vnd.google.colaboratory.intrinsic+json": {
              "type": "string"
            }
          },
          "metadata": {},
          "execution_count": 17
        }
      ],
      "source": [
        "%pwd"
      ]
    },
    {
      "cell_type": "code",
      "execution_count": 22,
      "metadata": {
        "colab": {
          "base_uri": "https://localhost:8080/"
        },
        "id": "HpvM_5c11jKA",
        "outputId": "56a32ec1-1ff8-4579-8ecc-78fbd265561a"
      },
      "outputs": [
        {
          "output_type": "stream",
          "name": "stdout",
          "text": [
            "/content/blended-diffusion\n"
          ]
        }
      ],
      "source": [
        "%cd blended-diffusion"
      ]
    },
    {
      "cell_type": "code",
      "execution_count": null,
      "metadata": {
        "colab": {
          "base_uri": "https://localhost:8080/"
        },
        "id": "41j-e_VIH2Gf",
        "outputId": "4cb41f1b-1ace-4f90-ed63-1caa76c30097"
      },
      "outputs": [
        {
          "output_type": "stream",
          "name": "stdout",
          "text": [
            "Downloading...\n",
            "From: https://huggingface.co/spaces/Anonymous-123/ImageNet-Editing/resolve/ec0fdfd90a8ae3757b9bcb49302350a16206fea4/editing_diffusion/checkpoints/256x256_diffusion_uncond.pt?download=true\n",
            "To: /content/256x256_diffusion_uncond.pt?download=true\n",
            "100% 2.21G/2.21G [00:27<00:00, 81.1MB/s]\n"
          ]
        }
      ],
      "source": [
        "!gdown https://huggingface.co/spaces/Anonymous-123/ImageNet-Editing/resolve/ec0fdfd90a8ae3757b9bcb49302350a16206fea4/editing_diffusion/checkpoints/256x256_diffusion_uncond.pt?download=true --output checkpoints/256x256_diffusion_uncond.pt"
      ]
    },
    {
      "cell_type": "code",
      "execution_count": null,
      "metadata": {
        "colab": {
          "base_uri": "https://localhost:8080/"
        },
        "id": "VFkIDNILzj10",
        "outputId": "f9808795-82dc-4e1d-83d5-7b258c9e1e05"
      },
      "outputs": [
        {
          "output_type": "stream",
          "name": "stdout",
          "text": [
            "Requirement already satisfied: ftfy in /usr/local/lib/python3.10/dist-packages (6.3.1)\n",
            "Requirement already satisfied: regex in /usr/local/lib/python3.10/dist-packages (2024.11.6)\n",
            "Requirement already satisfied: matplotlib in /usr/local/lib/python3.10/dist-packages (3.8.0)\n",
            "Requirement already satisfied: lpips in /usr/local/lib/python3.10/dist-packages (0.1.4)\n",
            "Requirement already satisfied: opencv-python in /usr/local/lib/python3.10/dist-packages (4.10.0.84)\n",
            "Collecting kornia\n",
            "  Downloading kornia-0.7.4-py2.py3-none-any.whl.metadata (18 kB)\n",
            "Requirement already satisfied: wcwidth in /usr/local/lib/python3.10/dist-packages (from ftfy) (0.2.13)\n",
            "Requirement already satisfied: contourpy>=1.0.1 in /usr/local/lib/python3.10/dist-packages (from matplotlib) (1.3.1)\n",
            "Requirement already satisfied: cycler>=0.10 in /usr/local/lib/python3.10/dist-packages (from matplotlib) (0.12.1)\n",
            "Requirement already satisfied: fonttools>=4.22.0 in /usr/local/lib/python3.10/dist-packages (from matplotlib) (4.55.3)\n",
            "Requirement already satisfied: kiwisolver>=1.0.1 in /usr/local/lib/python3.10/dist-packages (from matplotlib) (1.4.7)\n",
            "Requirement already satisfied: numpy<2,>=1.21 in /usr/local/lib/python3.10/dist-packages (from matplotlib) (1.26.4)\n",
            "Requirement already satisfied: packaging>=20.0 in /usr/local/lib/python3.10/dist-packages (from matplotlib) (24.2)\n",
            "Requirement already satisfied: pillow>=6.2.0 in /usr/local/lib/python3.10/dist-packages (from matplotlib) (11.0.0)\n",
            "Requirement already satisfied: pyparsing>=2.3.1 in /usr/local/lib/python3.10/dist-packages (from matplotlib) (3.2.0)\n",
            "Requirement already satisfied: python-dateutil>=2.7 in /usr/local/lib/python3.10/dist-packages (from matplotlib) (2.8.2)\n",
            "Requirement already satisfied: torch>=0.4.0 in /usr/local/lib/python3.10/dist-packages (from lpips) (2.5.1+cu121)\n",
            "Requirement already satisfied: torchvision>=0.2.1 in /usr/local/lib/python3.10/dist-packages (from lpips) (0.20.1+cu121)\n",
            "Requirement already satisfied: scipy>=1.0.1 in /usr/local/lib/python3.10/dist-packages (from lpips) (1.13.1)\n",
            "Requirement already satisfied: tqdm>=4.28.1 in /usr/local/lib/python3.10/dist-packages (from lpips) (4.67.1)\n",
            "Collecting kornia-rs>=0.1.0 (from kornia)\n",
            "  Downloading kornia_rs-0.1.8-cp310-cp310-manylinux_2_17_x86_64.manylinux2014_x86_64.whl.metadata (10 kB)\n",
            "Requirement already satisfied: six>=1.5 in /usr/local/lib/python3.10/dist-packages (from python-dateutil>=2.7->matplotlib) (1.17.0)\n",
            "Requirement already satisfied: filelock in /usr/local/lib/python3.10/dist-packages (from torch>=0.4.0->lpips) (3.16.1)\n",
            "Requirement already satisfied: typing-extensions>=4.8.0 in /usr/local/lib/python3.10/dist-packages (from torch>=0.4.0->lpips) (4.12.2)\n",
            "Requirement already satisfied: networkx in /usr/local/lib/python3.10/dist-packages (from torch>=0.4.0->lpips) (3.4.2)\n",
            "Requirement already satisfied: jinja2 in /usr/local/lib/python3.10/dist-packages (from torch>=0.4.0->lpips) (3.1.4)\n",
            "Requirement already satisfied: fsspec in /usr/local/lib/python3.10/dist-packages (from torch>=0.4.0->lpips) (2024.10.0)\n",
            "Requirement already satisfied: sympy==1.13.1 in /usr/local/lib/python3.10/dist-packages (from torch>=0.4.0->lpips) (1.13.1)\n",
            "Requirement already satisfied: mpmath<1.4,>=1.1.0 in /usr/local/lib/python3.10/dist-packages (from sympy==1.13.1->torch>=0.4.0->lpips) (1.3.0)\n",
            "Requirement already satisfied: MarkupSafe>=2.0 in /usr/local/lib/python3.10/dist-packages (from jinja2->torch>=0.4.0->lpips) (3.0.2)\n",
            "Downloading kornia-0.7.4-py2.py3-none-any.whl (899 kB)\n",
            "\u001b[2K   \u001b[90m━━━━━━━━━━━━━━━━━━━━━━━━━━━━━━━━━━━━━━━━\u001b[0m \u001b[32m899.4/899.4 kB\u001b[0m \u001b[31m43.4 MB/s\u001b[0m eta \u001b[36m0:00:00\u001b[0m\n",
            "\u001b[?25hDownloading kornia_rs-0.1.8-cp310-cp310-manylinux_2_17_x86_64.manylinux2014_x86_64.whl (2.1 MB)\n",
            "\u001b[2K   \u001b[90m━━━━━━━━━━━━━━━━━━━━━━━━━━━━━━━━━━━━━━━━\u001b[0m \u001b[32m2.1/2.1 MB\u001b[0m \u001b[31m72.0 MB/s\u001b[0m eta \u001b[36m0:00:00\u001b[0m\n",
            "\u001b[?25hInstalling collected packages: kornia-rs, kornia\n",
            "Successfully installed kornia-0.7.4 kornia-rs-0.1.8\n"
          ]
        }
      ],
      "source": [
        "!pip3 install ftfy regex matplotlib lpips opencv-python kornia"
      ]
    },
    {
      "cell_type": "code",
      "execution_count": null,
      "metadata": {
        "colab": {
          "base_uri": "https://localhost:8080/"
        },
        "id": "EvhgPA9A1ZRB",
        "outputId": "0139708c-d538-4c4a-923e-57839250ea83"
      },
      "outputs": [
        {
          "output_type": "execute_result",
          "data": {
            "text/plain": [
              "True"
            ]
          },
          "metadata": {},
          "execution_count": 16
        }
      ],
      "source": [
        "import torch\n",
        "import zipfile\n",
        "import os\n",
        "import shutil"
      ]
    },
    {
      "cell_type": "code",
      "execution_count": null,
      "metadata": {
        "colab": {
          "base_uri": "https://localhost:8080/"
        },
        "id": "vw4jfRbwDuEU",
        "outputId": "66b4d228-9e2a-4eff-ae80-29df9895717d"
      },
      "outputs": [
        {
          "output_type": "stream",
          "name": "stdout",
          "text": [
            "Downloading...\n",
            "From: https://download.pytorch.org/whl/cu111/torch-1.9.1%2Bcu111-cp39-cp39-win_amd64.whl\n",
            "To: /content/blended-diffusion/torch-1.9.1%2Bcu111-cp39-cp39-win_amd64.whl\n",
            "100% 3.13G/3.13G [00:13<00:00, 228MB/s]\n"
          ]
        }
      ],
      "source": [
        "# !gdown https://download.pytorch.org/whl/cu111/torch-1.9.1%2Bcu111-cp39-cp39-win_amd64.whl"
      ]
    },
    {
      "cell_type": "code",
      "execution_count": null,
      "metadata": {
        "colab": {
          "base_uri": "https://localhost:8080/"
        },
        "id": "sTO5Xq01DZBQ",
        "outputId": "2cdf92ec-5c8f-44e5-8539-4cb8eb035b74"
      },
      "outputs": [
        {
          "output_type": "stream",
          "name": "stdout",
          "text": [
            "Downloading...\n",
            "From: https://download.pytorch.org/whl/cu111/torchvision-0.9.0%2Bcu111-cp39-cp39-win_amd64.whl\n",
            "To: /content/blended-diffusion/torchvision-0.9.0%2Bcu111-cp39-cp39-win_amd64.whl\n",
            "\r  0% 0.00/1.90M [00:00<?, ?B/s]\r100% 1.90M/1.90M [00:00<00:00, 35.0MB/s]\n"
          ]
        }
      ],
      "source": [
        "# !gdown https://download.pytorch.org/whl/cu111/torchvision-0.9.0%2Bcu111-cp39-cp39-win_amd64.whl"
      ]
    },
    {
      "cell_type": "code",
      "execution_count": 27,
      "metadata": {
        "colab": {
          "base_uri": "https://localhost:8080/"
        },
        "id": "OAp6lRXB00PW",
        "outputId": "37291d02-0b2d-46a9-9f08-60e172949d43"
      },
      "outputs": [
        {
          "output_type": "stream",
          "name": "stdout",
          "text": [
            "Using device: cuda:0\n",
            "/content/blended-diffusion/optimization/image_editor.py:73: FutureWarning: You are using `torch.load` with `weights_only=False` (the current default value), which uses the default pickle module implicitly. It is possible to construct malicious pickle data which will execute arbitrary code during unpickling (See https://github.com/pytorch/pytorch/blob/main/SECURITY.md#untrusted-models for more details). In a future release, the default value for `weights_only` will be flipped to `True`. This limits the functions that could be executed during unpickling. Arbitrary objects will no longer be allowed to be loaded via this mode unless they are explicitly allowlisted by the user via `torch.serialization.add_safe_globals`. We recommend you start setting `weights_only=True` for any use case where you don't have full control of the loaded file. Please open an issue on GitHub for any issues related to this experimental feature.\n",
            "  torch.load(\n",
            "Setting up [LPIPS] perceptual loss: trunk [vgg], v[0.1], spatial [off]\n",
            "/usr/local/lib/python3.10/dist-packages/torchvision/models/_utils.py:208: UserWarning: The parameter 'pretrained' is deprecated since 0.13 and may be removed in the future, please use 'weights' instead.\n",
            "  warnings.warn(\n",
            "/usr/local/lib/python3.10/dist-packages/torchvision/models/_utils.py:223: UserWarning: Arguments other than a weight enum or `None` for 'weights' are deprecated since 0.13 and may be removed in the future. The current behavior is equivalent to passing `weights=VGG16_Weights.IMAGENET1K_V1`. You can also use `weights=VGG16_Weights.DEFAULT` to get the most up-to-date weights.\n",
            "  warnings.warn(msg)\n",
            "Loading model from: /usr/local/lib/python3.10/dist-packages/lpips/weights/v0.1/vgg.pth\n",
            "/usr/local/lib/python3.10/dist-packages/lpips/lpips.py:107: FutureWarning: You are using `torch.load` with `weights_only=False` (the current default value), which uses the default pickle module implicitly. It is possible to construct malicious pickle data which will execute arbitrary code during unpickling (See https://github.com/pytorch/pytorch/blob/main/SECURITY.md#untrusted-models for more details). In a future release, the default value for `weights_only` will be flipped to `True`. This limits the functions that could be executed during unpickling. Arbitrary objects will no longer be allowed to be loaded via this mode unless they are explicitly allowlisted by the user via `torch.serialization.add_safe_globals`. We recommend you start setting `weights_only=True` for any use case where you don't have full control of the loaded file. Please open an issue on GitHub for any issues related to this experimental feature.\n",
            "  self.load_state_dict(torch.load(model_path, map_location='cpu'), strict=False)\n",
            "Start iterations 0\n",
            "  0% 0/75 [00:00<?, ?it/s]clip_loss - 863.40\n",
            "range_loss - 0.00\n",
            " 27% 20/75 [00:15<00:37,  1.46it/s]clip_loss - 786.39\n",
            "range_loss - 0.00\n",
            " 53% 40/75 [00:29<00:24,  1.45it/s]clip_loss - 752.54\n",
            "range_loss - 0.00\n",
            " 80% 60/75 [00:43<00:10,  1.44it/s]clip_loss - 747.51\n",
            "range_loss - 0.00\n",
            " 99% 74/75 [00:53<00:00,  1.43it/s]clip_loss - 746.58\n",
            "range_loss - 0.00\n",
            "100% 75/75 [00:54<00:00,  1.37it/s]\n",
            "Start iterations 1\n",
            "  0% 0/75 [00:00<?, ?it/s]clip_loss - 839.15\n",
            "range_loss - 0.00\n",
            " 27% 20/75 [00:14<00:39,  1.41it/s]clip_loss - 799.03\n",
            "range_loss - 0.00\n",
            " 53% 40/75 [00:29<00:25,  1.40it/s]clip_loss - 772.32\n",
            "range_loss - 0.00\n",
            " 80% 60/75 [00:44<00:10,  1.39it/s]clip_loss - 764.69\n",
            "range_loss - 0.00\n",
            " 99% 74/75 [00:54<00:00,  1.39it/s]clip_loss - 758.36\n",
            "range_loss - 0.00\n",
            "100% 75/75 [00:55<00:00,  1.35it/s]\n",
            "Start iterations 2\n",
            "  0% 0/75 [00:00<?, ?it/s]clip_loss - 823.79\n",
            "range_loss - 0.00\n",
            " 27% 20/75 [00:14<00:39,  1.38it/s]clip_loss - 804.44\n",
            "range_loss - 0.00\n",
            " 53% 40/75 [00:29<00:25,  1.37it/s]clip_loss - 756.90\n",
            "range_loss - 0.00\n",
            " 80% 60/75 [00:44<00:11,  1.36it/s]clip_loss - 763.80\n",
            "range_loss - 0.00\n",
            " 99% 74/75 [00:55<00:00,  1.36it/s]clip_loss - 761.39\n",
            "range_loss - 0.00\n",
            "100% 75/75 [00:56<00:00,  1.33it/s]\n",
            "Start iterations 3\n",
            "  0% 0/75 [00:00<?, ?it/s]clip_loss - 844.92\n",
            "range_loss - 0.00\n",
            " 27% 20/75 [00:15<00:40,  1.35it/s]clip_loss - 828.12\n",
            "range_loss - 0.00\n",
            " 53% 40/75 [00:30<00:26,  1.34it/s]clip_loss - 742.93\n",
            "range_loss - 0.00\n",
            " 80% 60/75 [00:46<00:11,  1.33it/s]clip_loss - 738.51\n",
            "range_loss - 0.00\n",
            " 99% 74/75 [00:56<00:00,  1.34it/s]clip_loss - 733.25\n",
            "range_loss - 0.00\n",
            "100% 75/75 [00:58<00:00,  1.29it/s]\n",
            "Start iterations 4\n",
            "  0% 0/75 [00:00<?, ?it/s]clip_loss - 832.49\n",
            "range_loss - 0.00\n",
            " 27% 20/75 [00:15<00:41,  1.33it/s]clip_loss - 804.01\n",
            "range_loss - 0.00\n",
            " 53% 40/75 [00:30<00:26,  1.34it/s]clip_loss - 766.03\n",
            "range_loss - 0.00\n",
            " 80% 60/75 [00:46<00:11,  1.34it/s]clip_loss - 767.67\n",
            "range_loss - 0.00\n",
            " 99% 74/75 [00:56<00:00,  1.35it/s]clip_loss - 761.39\n",
            "range_loss - 0.00\n",
            "100% 75/75 [00:58<00:00,  1.29it/s]\n",
            "Start iterations 5\n",
            "  0% 0/75 [00:00<?, ?it/s]clip_loss - 842.01\n",
            "range_loss - 0.00\n",
            " 27% 20/75 [00:15<00:41,  1.33it/s]clip_loss - 787.73\n",
            "range_loss - 0.00\n",
            " 53% 40/75 [00:30<00:26,  1.33it/s]clip_loss - 765.63\n",
            "range_loss - 0.00\n",
            " 80% 60/75 [00:46<00:11,  1.33it/s]clip_loss - 766.02\n",
            "range_loss - 0.00\n",
            " 99% 74/75 [00:57<00:00,  1.34it/s]clip_loss - 766.35\n",
            "range_loss - 0.00\n",
            "100% 75/75 [00:58<00:00,  1.28it/s]\n",
            "Start iterations 6\n",
            "  0% 0/75 [00:00<?, ?it/s]clip_loss - 851.51\n",
            "range_loss - 0.00\n",
            " 27% 20/75 [00:15<00:41,  1.33it/s]clip_loss - 822.02\n",
            "range_loss - 0.00\n",
            " 53% 40/75 [00:30<00:26,  1.34it/s]clip_loss - 775.96\n",
            "range_loss - 0.00\n",
            " 80% 60/75 [00:46<00:11,  1.34it/s]clip_loss - 766.38\n",
            "range_loss - 0.00\n",
            " 99% 74/75 [00:56<00:00,  1.34it/s]clip_loss - 760.71\n",
            "range_loss - 0.00\n",
            "100% 75/75 [00:58<00:00,  1.29it/s]\n",
            "Start iterations 7\n",
            "  0% 0/75 [00:00<?, ?it/s]clip_loss - 851.04\n",
            "range_loss - 0.00\n",
            " 27% 20/75 [00:15<00:41,  1.34it/s]clip_loss - 800.52\n",
            "range_loss - 0.00\n",
            " 53% 40/75 [00:30<00:26,  1.33it/s]clip_loss - 752.26\n",
            "range_loss - 0.00\n",
            " 80% 60/75 [00:46<00:11,  1.34it/s]clip_loss - 755.72\n",
            "range_loss - 0.00\n",
            " 99% 74/75 [00:57<00:00,  1.34it/s]clip_loss - 752.24\n",
            "range_loss - 0.00\n",
            "100% 75/75 [00:58<00:00,  1.28it/s]\n"
          ]
        }
      ],
      "source": [
        "!python main.py -p \"rock\" -i \"input_example/img5.png\" --mask \"input_example/mask5.png\" --output_path \"output\" --batch_size 1 -p \"replace the existing background with one of a racetrack with lighting and shadows adjusted on the car\""
      ]
    },
    {
      "cell_type": "code",
      "execution_count": 28,
      "metadata": {
        "colab": {
          "base_uri": "https://localhost:8080/"
        },
        "id": "LCY-14Te1hUV",
        "outputId": "b55a76b0-24c9-4b52-e89b-d49bc0813307"
      },
      "outputs": [
        {
          "output_type": "stream",
          "name": "stdout",
          "text": [
            "ZIP file created: /content/output_5.zip\n"
          ]
        }
      ],
      "source": [
        "folder_path = '/content/blended-diffusion/output'\n",
        "output_zip = '/content/output_5.zip'\n",
        "\n",
        "with zipfile.ZipFile(output_zip, 'w', zipfile.ZIP_DEFLATED) as zipf:\n",
        "    for root, dirs, files in os.walk(folder_path):\n",
        "        for file in files:\n",
        "            if file.lower().endswith(('png', 'jpg', 'jpeg', 'gif', 'bmp', 'tiff')):\n",
        "                file_path = os.path.join(root, file)\n",
        "                zipf.write(file_path, os.path.relpath(file_path, folder_path))\n",
        "\n",
        "print(f\"ZIP file created: {output_zip}\")"
      ]
    },
    {
      "cell_type": "code",
      "execution_count": 25,
      "metadata": {
        "colab": {
          "base_uri": "https://localhost:8080/"
        },
        "id": "QbfD-XdTaoMs",
        "outputId": "77d1bc7a-d54a-4ccd-e2af-c18ccb293c2d"
      },
      "outputs": [
        {
          "output_type": "stream",
          "name": "stdout",
          "text": [
            "/content\n",
            "/content/blended-diffusion\n"
          ]
        }
      ],
      "source": [
        "# def remove_files_in_directory(directory):\n",
        "#   \"\"\"Removes all files within a specified directory.\n",
        "\n",
        "#   Args:\n",
        "#     directory: The path to the directory.\n",
        "#   \"\"\"\n",
        "#   if os.path.exists(directory):\n",
        "#     for filename in os.listdir(directory):\n",
        "#       file_path = os.path.join(directory, filename)\n",
        "#       try:\n",
        "#         if os.path.isfile(file_path):\n",
        "#           os.unlink(file_path)\n",
        "#         elif os.path.isdir(file_path):\n",
        "#           shutil.rmtree(file_path)\n",
        "#       except Exception as e:\n",
        "#         print(f\"Error deleting {file_path}: {e}\")\n",
        "#   else:\n",
        "#     print(f\"Directory '{directory}' not found.\")\n",
        "\n",
        "# remove_files_in_directory('/content/blended-diffusion/output/')\n",
        "# !mkdir output/ranked\n",
        "# %cd ..\n",
        "# !rm output_5.zip\n",
        "# %cd blended-diffusion"
      ]
    },
    {
      "cell_type": "code",
      "source": [],
      "metadata": {
        "id": "XstiWEuaf4AQ"
      },
      "execution_count": null,
      "outputs": []
    }
  ],
  "metadata": {
    "accelerator": "GPU",
    "colab": {
      "gpuType": "T4",
      "provenance": []
    },
    "kernelspec": {
      "display_name": "Python 3",
      "name": "python3"
    },
    "language_info": {
      "name": "python"
    }
  },
  "nbformat": 4,
  "nbformat_minor": 0
}